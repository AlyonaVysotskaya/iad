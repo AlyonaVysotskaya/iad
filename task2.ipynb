{
 "cells": [
  {
   "cell_type": "markdown",
   "id": "1042127d-ecf4-4f4d-b095-d31b71caf91e",
   "metadata": {},
   "source": [
    "# Подсчёт pi с использованием метода Монте-Карло"
   ]
  },
  {
   "cell_type": "markdown",
   "id": "df2ad16f-342b-4c36-95ce-54641d76711d",
   "metadata": {},
   "source": [
    "## Формулы\n",
    "- square area: $s = (2 r)^2$\n",
    "- circle area: $c = \\pi r^2$\n",
    "- $c/s = (\\pi r^2) / (4 r^2) = \\pi / 4$\n",
    "- $\\pi = 4 * c/s$"
   ]
  },
  {
   "cell_type": "markdown",
   "id": "c01c089d-3d87-4976-a04e-99b58f2b9e7a",
   "metadata": {},
   "source": [
    "## Изображение для визуализации концепции\n",
    "\n",
    "![Darts](https://raw.githubusercontent.com/coderefinery/jupyter/main/example/darts.svg)"
   ]
  },
  {
   "cell_type": "code",
   "execution_count": null,
   "id": "4c5d020b-a574-41c4-ae58-a848d229d5e5",
   "metadata": {},
   "outputs": [],
   "source": [
    "# Импорт необходимых модулей\n",
    "import random\n",
    "import matplotlib.pyplot as plt"
   ]
  },
  {
   "cell_type": "code",
   "execution_count": null,
   "id": "443ec15f-b707-4ffd-a3c9-b9b26fe1d42c",
   "metadata": {},
   "outputs": [],
   "source": [
    "# Инициализация количества \"бросков\"\n",
    "num_points = 1000\n"
   ]
  },
  {
   "cell_type": "code",
   "execution_count": null,
   "id": "e4ad91cb-cec5-44f7-afe8-defb53235790",
   "metadata": {},
   "outputs": [],
   "source": [
    "# Здесь мы \"бросаем дротики\" и подсчитываем количество попаданий\n",
    "points = []\n",
    "hits = 0\n",
    "for _ in range(num_points):\n",
    "    x, y = random.random(), random.random()\n",
    "    if x*x + y*y < 1.0:\n",
    "        hits += 1\n",
    "        points.append((x, y, \"red\"))\n",
    "    else:\n",
    "        points.append((x, y, \"blue\"))"
   ]
  },
  {
   "cell_type": "code",
   "execution_count": null,
   "id": "f8659e81-f433-43ae-9f37-d288c7d48f2e",
   "metadata": {
    "scrolled": true
   },
   "outputs": [],
   "source": [
    "# Распакуем точки в 3 списка\n",
    "x, y, colors = zip(*points)\n",
    "# Определяем размеры фигуры\n",
    "fig, ax = plt.subplots()\n",
    "fig.set_size_inches(6.0, 6.0)\n",
    "# Рисуем результат\n",
    "ax.scatter(x, y, c=colors)"
   ]
  },
  {
   "cell_type": "code",
   "execution_count": null,
   "id": "647f85dc-b98e-40de-a47d-436e2ca18618",
   "metadata": {
    "scrolled": true
   },
   "outputs": [],
   "source": [
    "# Считаем оценку\n",
    "fraction = hits / num_points\n",
    "4 * fraction"
   ]
  },
  {
   "cell_type": "markdown",
   "id": "a5860247-2406-45c3-9236-4b69650486fb",
   "metadata": {},
   "source": [
    "С добавлением виджета"
   ]
  },
  {
   "cell_type": "code",
   "execution_count": null,
   "id": "a9150b5a-df52-4d34-b1e0-a842c74a3911",
   "metadata": {},
   "outputs": [],
   "source": [
    "import random\n",
    "from ipywidgets import interact, widgets\n",
    "%matplotlib inline\n",
    "from matplotlib import pyplot\n",
    "def throw_darts(num_points):\n",
    "    points = []\n",
    "    hits = 0\n",
    "    for _ in range(num_points):\n",
    "        x, y = random.random(), random.random()\n",
    "        if x*x + y*y < 1.0:\n",
    "            hits += 1\n",
    "            points.append((x, y, True))\n",
    "        else:\n",
    "            points.append((x, y, False))\n",
    "    fraction = hits / num_points\n",
    "    pi = 4 * fraction\n",
    "    return pi, points\n",
    "def create_plot(points):\n",
    "    x, y, colors = zip(*points)\n",
    "    pyplot.scatter(x, y, c=colors)\n",
    "def experiment(num_points):\n",
    "    pi, points = throw_darts(num_points)\n",
    "    create_plot(points)\n",
    "    print(\"approximation:\", pi)"
   ]
  },
  {
   "cell_type": "code",
   "execution_count": null,
   "id": "3a6f0f90-f03c-4861-aab1-e2b0abb9c890",
   "metadata": {},
   "outputs": [],
   "source": [
    "interact(experiment, num_points=widgets.IntSlider(min=100, max=10000, step=100,\n",
    "value=1000))"
   ]
  },
  {
   "cell_type": "code",
   "execution_count": null,
   "id": "469a00df-31ce-4085-8775-b79abf70a041",
   "metadata": {},
   "outputs": [],
   "source": [
    "import numpy as np\n",
    "from ipywidgets import interact\n",
    "import matplotlib.pyplot as plt\n",
    "%matplotlib inline\n",
    "def gaussian(x, a, b, c):\n",
    "    return a * np.exp(-b * (x-c)**2)\n",
    "def noisy_gaussian():\n",
    "    nx = 100\n",
    "    x = np.linspace(-5.0, 5.0, nx)\n",
    "    y = gaussian(x, a=2.0, b=0.5, c=1.5)\n",
    "    noise = np.random.normal(0.0, 0.2, nx)\n",
    "    y += noise\n",
    "    return x, y\n",
    "def fit(x, y, n):\n",
    "    pfit = np.polyfit(x, y, n)\n",
    "    yfit = np.polyval(pfit, x)\n",
    "    return yfit\n",
    "def plot(x, y, yfit):\n",
    "    plt.plot(x, y, \"r\", label=\"Data\")\n",
    "    plt.plot(x, yfit, \"b\", label=\"Fit\")\n",
    "    plt.legend()\n",
    "    plt.ylim(-0.5, 2.5)\n",
    "    plt.show()\n",
    "x, y = noisy_gaussian()\n",
    "@interact\n",
    "def slider(n=(3, 30)):\n",
    "    yfit = fit(x, y, n)\n",
    "    plot(x, y, yfit)"
   ]
  },
  {
   "cell_type": "code",
   "execution_count": null,
   "id": "1a830610-24d9-45ba-a348-99ab21b512b4",
   "metadata": {},
   "outputs": [],
   "source": [
    "import numpy as np"
   ]
  },
  {
   "cell_type": "code",
   "execution_count": null,
   "id": "48a00fb1-6fb2-4475-8d98-4eb737c28e99",
   "metadata": {},
   "outputs": [],
   "source": [
    "def step():\n",
    "    import random\n",
    "    return 1. if random.random() > .5 else -1."
   ]
  },
  {
   "cell_type": "code",
   "execution_count": null,
   "id": "9e0e71a0-f1ef-4fc0-9bfe-c43658504e93",
   "metadata": {},
   "outputs": [],
   "source": [
    "def walk(n):\n",
    "    x = np.zeros(n)\n",
    "    dx = 1. / n\n",
    "    for i in range(n - 1):\n",
    "        x_new = x[i] + dx * step()\n",
    "        if x_new > 5e-3:\n",
    "            x[i + 1] = 0.\n",
    "        else:\n",
    "            x[i + 1] = x_new\n",
    "    return x"
   ]
  },
  {
   "cell_type": "code",
   "execution_count": null,
   "id": "b98c8cfe-7896-492a-ac62-5f0b4c282d90",
   "metadata": {},
   "outputs": [],
   "source": [
    "n = 100000\n",
    "x = walk(n)"
   ]
  },
  {
   "cell_type": "code",
   "execution_count": null,
   "id": "b22b445c-188d-409e-81ce-605b64fb8895",
   "metadata": {},
   "outputs": [],
   "source": [
    "import matplotlib.pyplot as plt\n",
    "plt.plot(x);"
   ]
  },
  {
   "cell_type": "code",
   "execution_count": null,
   "id": "ff2537c2-7293-4548-9977-b81f0ca7d933",
   "metadata": {},
   "outputs": [],
   "source": [
    "t1 = %timeit -o walk(n)"
   ]
  },
  {
   "cell_type": "code",
   "execution_count": null,
   "id": "59941e16-c43a-4cf2-abac-35ceb5a1c92e",
   "metadata": {},
   "outputs": [],
   "source": [
    "t1.best"
   ]
  },
  {
   "cell_type": "code",
   "execution_count": null,
   "id": "92a39e54-bd54-4565-aba4-4d985c6e8a82",
   "metadata": {},
   "outputs": [],
   "source": [
    "%%prun\n",
    "walk(n)"
   ]
  },
  {
   "cell_type": "code",
   "execution_count": null,
   "id": "5241e4ec-23f2-45f4-9789-a4c8340d328b",
   "metadata": {},
   "outputs": [],
   "source": [
    "!pip install line_profiler\n",
    "%load_ext line_profiler\n",
    "%lprun?\n",
    "    "
   ]
  },
  {
   "cell_type": "code",
   "execution_count": null,
   "id": "c9ded2b2-7a12-4055-bd9e-82e5432328cd",
   "metadata": {},
   "outputs": [],
   "source": [
    "%lprun -f step walk(10000)\n",
    "%lprun -f walk walk(10000)\n"
   ]
  }
 ],
 "metadata": {
  "kernelspec": {
   "display_name": "Python 3 (ipykernel)",
   "language": "python",
   "name": "python3"
  },
  "language_info": {
   "codemirror_mode": {
    "name": "ipython",
    "version": 3
   },
   "file_extension": ".py",
   "mimetype": "text/x-python",
   "name": "python",
   "nbconvert_exporter": "python",
   "pygments_lexer": "ipython3",
   "version": "3.10.7"
  }
 },
 "nbformat": 4,
 "nbformat_minor": 5
}
